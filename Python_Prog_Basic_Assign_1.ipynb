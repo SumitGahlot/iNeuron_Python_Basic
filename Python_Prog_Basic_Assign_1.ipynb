{
 "cells": [
  {
   "cell_type": "code",
   "execution_count": 31,
   "id": "suspended-checkout",
   "metadata": {},
   "outputs": [
    {
     "name": "stdout",
     "output_type": "stream",
     "text": [
      "Hello Python\n"
     ]
    }
   ],
   "source": [
    "#Q1.\tWrite a Python program to print \"Hello Python\"?\n",
    "print(\"Hello Python\")"
   ]
  },
  {
   "cell_type": "code",
   "execution_count": 32,
   "id": "liquid-cosmetic",
   "metadata": {},
   "outputs": [
    {
     "name": "stdout",
     "output_type": "stream",
     "text": [
      "15\n",
      "2.0\n"
     ]
    }
   ],
   "source": [
    "#Q2.\tWrite a Python program to do arithmetical operations addition and division.?\n",
    "a=10\n",
    "b=5\n",
    "print(a+b)\n",
    "print(a/b)"
   ]
  },
  {
   "cell_type": "code",
   "execution_count": 33,
   "id": "registered-natural",
   "metadata": {},
   "outputs": [
    {
     "name": "stdout",
     "output_type": "stream",
     "text": [
      "Area of Triangle is 77.5\n"
     ]
    }
   ],
   "source": [
    "#Q3.\tWrite a Python program to find the area of a triangle?\n",
    "b=15.5\n",
    "h=10\n",
    "print(\"Area of Triangle is\",(b*h)/2)"
   ]
  },
  {
   "cell_type": "code",
   "execution_count": 34,
   "id": "random-scheme",
   "metadata": {},
   "outputs": [
    {
     "name": "stdout",
     "output_type": "stream",
     "text": [
      "Swap Value of x =  10\n",
      "Swap Value of y =  5\n"
     ]
    }
   ],
   "source": [
    "#Q4.\tWrite a Python program to swap two variables?\n",
    "x=5\n",
    "y=10\n",
    "x,y=y,x\n",
    "print(\"Swap Value of x = \", x)\n",
    "print(\"Swap Value of y = \", y)"
   ]
  },
  {
   "cell_type": "code",
   "execution_count": 35,
   "id": "understood-chart",
   "metadata": {},
   "outputs": [
    {
     "name": "stdout",
     "output_type": "stream",
     "text": [
      "25\n"
     ]
    }
   ],
   "source": [
    "#Q5.\tWrite a Python program to generate a random number?\n",
    "import random\n",
    "print(random.randint(10,50))"
   ]
  },
  {
   "cell_type": "code",
   "execution_count": null,
   "id": "coastal-photograph",
   "metadata": {},
   "outputs": [],
   "source": []
  }
 ],
 "metadata": {
  "kernelspec": {
   "display_name": "Python 3",
   "language": "python",
   "name": "python3"
  },
  "language_info": {
   "codemirror_mode": {
    "name": "ipython",
    "version": 3
   },
   "file_extension": ".py",
   "mimetype": "text/x-python",
   "name": "python",
   "nbconvert_exporter": "python",
   "pygments_lexer": "ipython3",
   "version": "3.8.8"
  }
 },
 "nbformat": 4,
 "nbformat_minor": 5
}
