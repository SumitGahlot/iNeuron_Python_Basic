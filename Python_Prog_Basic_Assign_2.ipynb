{
 "cells": [
  {
   "cell_type": "code",
   "execution_count": 39,
   "id": "initial-checkout",
   "metadata": {},
   "outputs": [
    {
     "name": "stdout",
     "output_type": "stream",
     "text": [
      "Enter KMs = 1\n",
      "1.0 kms is equal to 0.62 miles\n",
      "Enter Miles = 1\n",
      "1.0 miles is equal to 1.6 kms\n"
     ]
    }
   ],
   "source": [
    "#Q1.\tWrite a Python program to convert kilometers to miles?\n",
    "\n",
    "#convert kilometers to miles:\n",
    "KM=float(input(\"Enter KMs = \"))\n",
    "Conv=0.62\n",
    "Miles=KM*Conv\n",
    "\n",
    "print(f\"{KM} kms is equal to {Miles} miles\")\n",
    "\n",
    "#convert miles to kilometers:\n",
    "Miles=float(input(\"Enter Miles = \"))\n",
    "Conv=1.60\n",
    "KMs=Miles*Conv\n",
    "\n",
    "print(f\"{Miles} miles is equal to {KMs} kms\")"
   ]
  },
  {
   "cell_type": "code",
   "execution_count": 35,
   "id": "developing-religion",
   "metadata": {},
   "outputs": [
    {
     "name": "stdout",
     "output_type": "stream",
     "text": [
      "Enter temperature in Celsius = 0\n",
      "0.0 Celsius is 32.0 Fahrenheit\n",
      "Enter temperature in Fahrenheit = 32\n",
      "32.0 Fahrenheit is 0.0 Celsius\n"
     ]
    }
   ],
   "source": [
    "#Q2.\tWrite a Python program to convert Celsius to Fahrenheit?\n",
    "\n",
    "# Celsius = (Fahrenheit – 32) * 5/9\n",
    "# Fahrenheit = (Celsius * 9/5) + 32\n",
    "\n",
    "#convert Celsius to Fahrenheit:\n",
    "cel = float(input(\"Enter temperature in Celsius = \"))\n",
    "fah = (cel * 1.8) + 32\n",
    "print(f\"{cel} Celsius is {fah} Fahrenheit\")\n",
    "\n",
    "#convert Fahrenheit to Celsius:\n",
    "fah = float(input(\"Enter temperature in Fahrenheit = \"))\n",
    "cel = (fah - 32) * 9/5\n",
    "print(f\"{fah} Fahrenheit is {cel} Celsius\")"
   ]
  },
  {
   "cell_type": "code",
   "execution_count": 37,
   "id": "indian-olive",
   "metadata": {},
   "outputs": [
    {
     "name": "stdout",
     "output_type": "stream",
     "text": [
      "Enter Year = 2021\n",
      "                                  2021\n",
      "\n",
      "      January                   February                   March\n",
      "Mo Tu We Th Fr Sa Su      Mo Tu We Th Fr Sa Su      Mo Tu We Th Fr Sa Su\n",
      "             1  2  3       1  2  3  4  5  6  7       1  2  3  4  5  6  7\n",
      " 4  5  6  7  8  9 10       8  9 10 11 12 13 14       8  9 10 11 12 13 14\n",
      "11 12 13 14 15 16 17      15 16 17 18 19 20 21      15 16 17 18 19 20 21\n",
      "18 19 20 21 22 23 24      22 23 24 25 26 27 28      22 23 24 25 26 27 28\n",
      "25 26 27 28 29 30 31                                29 30 31\n",
      "\n",
      "       April                      May                       June\n",
      "Mo Tu We Th Fr Sa Su      Mo Tu We Th Fr Sa Su      Mo Tu We Th Fr Sa Su\n",
      "          1  2  3  4                      1  2          1  2  3  4  5  6\n",
      " 5  6  7  8  9 10 11       3  4  5  6  7  8  9       7  8  9 10 11 12 13\n",
      "12 13 14 15 16 17 18      10 11 12 13 14 15 16      14 15 16 17 18 19 20\n",
      "19 20 21 22 23 24 25      17 18 19 20 21 22 23      21 22 23 24 25 26 27\n",
      "26 27 28 29 30            24 25 26 27 28 29 30      28 29 30\n",
      "                          31\n",
      "\n",
      "        July                     August                  September\n",
      "Mo Tu We Th Fr Sa Su      Mo Tu We Th Fr Sa Su      Mo Tu We Th Fr Sa Su\n",
      "          1  2  3  4                         1             1  2  3  4  5\n",
      " 5  6  7  8  9 10 11       2  3  4  5  6  7  8       6  7  8  9 10 11 12\n",
      "12 13 14 15 16 17 18       9 10 11 12 13 14 15      13 14 15 16 17 18 19\n",
      "19 20 21 22 23 24 25      16 17 18 19 20 21 22      20 21 22 23 24 25 26\n",
      "26 27 28 29 30 31         23 24 25 26 27 28 29      27 28 29 30\n",
      "                          30 31\n",
      "\n",
      "      October                   November                  December\n",
      "Mo Tu We Th Fr Sa Su      Mo Tu We Th Fr Sa Su      Mo Tu We Th Fr Sa Su\n",
      "             1  2  3       1  2  3  4  5  6  7             1  2  3  4  5\n",
      " 4  5  6  7  8  9 10       8  9 10 11 12 13 14       6  7  8  9 10 11 12\n",
      "11 12 13 14 15 16 17      15 16 17 18 19 20 21      13 14 15 16 17 18 19\n",
      "18 19 20 21 22 23 24      22 23 24 25 26 27 28      20 21 22 23 24 25 26\n",
      "25 26 27 28 29 30 31      29 30                     27 28 29 30 31\n",
      "\n"
     ]
    }
   ],
   "source": [
    "#Q3.\tWrite a Python program to display calendar?\n",
    "import calendar\n",
    "\n",
    "# mm=int(input(\"Enter Month = \"))\n",
    "yy=int(input(\"Enter Year = \"))\n",
    "\n",
    "print(calendar.calendar(yy))"
   ]
  },
  {
   "cell_type": "code",
   "execution_count": 50,
   "id": "bronze-liverpool",
   "metadata": {},
   "outputs": [
    {
     "name": "stdout",
     "output_type": "stream",
     "text": [
      "Enter a = 1\n",
      "Enter b = 5\n",
      "Enter c = 4\n",
      "The solution are (-4+0j) and (-1+0j)\n"
     ]
    }
   ],
   "source": [
    "#Q4.\tWrite a Python program to solve quadratic equation?\n",
    "# import complex math module\n",
    "import cmath\n",
    "\n",
    "# To take coefficient input from the users:\n",
    "a = float(input(\"Enter a = \"))\n",
    "b = float(input(\"Enter b = \"))\n",
    "c = float(input(\"Enter c = \"))\n",
    "\n",
    "# calculate the discriminant value:\n",
    "d = (b**2) - (4*a*c)\n",
    "\n",
    "# find two solutions:\n",
    "sol1 = (-b-cmath.sqrt(d))/(2*a)\n",
    "sol2 = (-b+cmath.sqrt(d))/(2*a)\n",
    "\n",
    "print(f'The solution are {sol1} and {sol2}')"
   ]
  },
  {
   "cell_type": "code",
   "execution_count": 21,
   "id": "perceived-facility",
   "metadata": {},
   "outputs": [
    {
     "name": "stdout",
     "output_type": "stream",
     "text": [
      "Enter value of x = 3.5\n",
      "Enter value of y = 7\n",
      "Swap Value of x =  7.0\n",
      "Swap Value of y =  3.5\n"
     ]
    }
   ],
   "source": [
    "#Q5.\tWrite a Python program to swap two variables without temp variable?\n",
    "x=float(input(\"Enter value of x = \"))\n",
    "y=float(input(\"Enter value of y = \"))\n",
    "x,y=y,x\n",
    "print(\"Swap Value of x = \", x)\n",
    "print(\"Swap Value of y = \", y)"
   ]
  },
  {
   "cell_type": "code",
   "execution_count": null,
   "id": "different-manor",
   "metadata": {},
   "outputs": [],
   "source": []
  }
 ],
 "metadata": {
  "kernelspec": {
   "display_name": "Python 3",
   "language": "python",
   "name": "python3"
  },
  "language_info": {
   "codemirror_mode": {
    "name": "ipython",
    "version": 3
   },
   "file_extension": ".py",
   "mimetype": "text/x-python",
   "name": "python",
   "nbconvert_exporter": "python",
   "pygments_lexer": "ipython3",
   "version": "3.8.8"
  }
 },
 "nbformat": 4,
 "nbformat_minor": 5
}
