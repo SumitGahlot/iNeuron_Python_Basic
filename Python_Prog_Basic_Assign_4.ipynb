{
 "cells": [
  {
   "cell_type": "code",
   "execution_count": 5,
   "id": "wound-africa",
   "metadata": {},
   "outputs": [
    {
     "name": "stdout",
     "output_type": "stream",
     "text": [
      "Enter your number =10\n",
      "Factorial of 10 is 3628800\n"
     ]
    }
   ],
   "source": [
    "#Q1.\tWrite a Python Program to Find the Factorial of a Number?\n",
    "\n",
    "y=int(input(\"Enter your number =\"))\n",
    "\n",
    "def fact(x):\n",
    "    return 1 if x<=1 else x*fact(x-1)\n",
    "\n",
    "print(f\"Factorial of {y} is {fact(y)}\")"
   ]
  },
  {
   "cell_type": "code",
   "execution_count": 23,
   "id": "reduced-intake",
   "metadata": {},
   "outputs": [
    {
     "name": "stdout",
     "output_type": "stream",
     "text": [
      "Show multiplication table for 15\n",
      "15\n",
      "30\n",
      "45\n",
      "60\n",
      "75\n",
      "90\n",
      "105\n",
      "120\n",
      "135\n",
      "150\n"
     ]
    }
   ],
   "source": [
    "#Q2.\tWrite a Python Program to Display the multiplication Table?\n",
    "num=int(input(\"Show multiplication table for \"))\n",
    "for i in range(1,11):\n",
    "    print(i*num)"
   ]
  },
  {
   "cell_type": "code",
   "execution_count": 30,
   "id": "fundamental-intent",
   "metadata": {},
   "outputs": [
    {
     "name": "stdout",
     "output_type": "stream",
     "text": [
      "[0, 1, 1, 2, 3, 5, 8, 13, 21, 34, 55, 89, 144, 233, 377, 610, 987, 1597, 2584, 4181]\n"
     ]
    }
   ],
   "source": [
    "#Q3.\tWrite a Python Program to Print the Fibonacci sequence?\n",
    "Fibo=[0,1]\n",
    "for i in range(2,20):\n",
    "    Fibo.append(Fibo[i-1]+Fibo[i-2])\n",
    "print(Fibo)"
   ]
  },
  {
   "cell_type": "code",
   "execution_count": 86,
   "id": "front-mercy",
   "metadata": {},
   "outputs": [
    {
     "name": "stdout",
     "output_type": "stream",
     "text": [
      "Enter your Armstrong number = 371\n",
      "371\n",
      "your number is an Armstrong Number\n"
     ]
    }
   ],
   "source": [
    "#Q4.\tWrite a Python Program to Check Armstrong Number?\n",
    "a=input(\"Enter your Armstrong number = \")\n",
    "d=[]\n",
    "for i in range(len(a)):\n",
    "        d.append(int(a[i])**len(a))\n",
    "total=sum(d)\n",
    "print(total)\n",
    "if int(a)==total:\n",
    "    print(\"your number is an Armstrong Number\")\n",
    "else:\n",
    "    print(\"Your number is not an Armstrong Number\")"
   ]
  },
  {
   "cell_type": "code",
   "execution_count": 109,
   "id": "indonesian-cyprus",
   "metadata": {},
   "outputs": [
    {
     "name": "stdout",
     "output_type": "stream",
     "text": [
      "Enter lower limit = 100\n",
      "Enter upper limit = 1000\n"
     ]
    },
    {
     "data": {
      "text/plain": [
       "[153, 370, 370, 371, 407]"
      ]
     },
     "execution_count": 109,
     "metadata": {},
     "output_type": "execute_result"
    }
   ],
   "source": [
    "#Q5.\tWrite a Python Program to Find Armstrong Number in an Interval?\n",
    "lw=int(input(\"Enter lower limit = \"))\n",
    "up=int(input(\"Enter upper limit = \"))\n",
    "final=[]\n",
    "for i in range(lw,up):\n",
    "    num=str(i)\n",
    "    d=[]\n",
    "    for j in range(len(num)):\n",
    "        d.append(int(num[j])**len(num))\n",
    "        total=sum(d)\n",
    "        if total==i:\n",
    "            final.append(total)\n",
    "final       "
   ]
  },
  {
   "cell_type": "code",
   "execution_count": 120,
   "id": "identified-record",
   "metadata": {},
   "outputs": [
    {
     "name": "stdout",
     "output_type": "stream",
     "text": [
      "Enter your number = 10\n",
      "55.0\n"
     ]
    }
   ],
   "source": [
    "#Q6.\tWrite a Python Program to Find the Sum of Natural Numbers?\n",
    "\n",
    "n=int(input(\"Enter your number = \"))\n",
    "\n",
    "def natural(n):\n",
    "    return n*(n+1)/2\n",
    "print(natural(n))"
   ]
  },
  {
   "cell_type": "code",
   "execution_count": null,
   "id": "improving-abraham",
   "metadata": {},
   "outputs": [],
   "source": []
  },
  {
   "cell_type": "code",
   "execution_count": null,
   "id": "discrete-senate",
   "metadata": {},
   "outputs": [],
   "source": []
  }
 ],
 "metadata": {
  "kernelspec": {
   "display_name": "Python 3",
   "language": "python",
   "name": "python3"
  },
  "language_info": {
   "codemirror_mode": {
    "name": "ipython",
    "version": 3
   },
   "file_extension": ".py",
   "mimetype": "text/x-python",
   "name": "python",
   "nbconvert_exporter": "python",
   "pygments_lexer": "ipython3",
   "version": "3.8.8"
  }
 },
 "nbformat": 4,
 "nbformat_minor": 5
}
