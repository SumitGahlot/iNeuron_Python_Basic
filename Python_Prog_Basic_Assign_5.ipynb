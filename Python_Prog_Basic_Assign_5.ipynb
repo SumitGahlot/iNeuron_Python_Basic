{
 "cells": [
  {
   "cell_type": "code",
   "execution_count": 28,
   "id": "reduced-aspect",
   "metadata": {},
   "outputs": [
    {
     "name": "stdout",
     "output_type": "stream",
     "text": [
      "Enter your 1st number = 3\n",
      "Enter your 2nd number = 5\n",
      "The L.C.M of 3 and 5 is 15\n"
     ]
    }
   ],
   "source": [
    "#Q1.\tWrite a Python Program to Find LCM?\n",
    "\n",
    "a = int(input(\"Enter your 1st number = \"))  \n",
    "b = int(input(\"Enter your 2nd number = \"))  \n",
    "if a > b:  \n",
    "    max = a  \n",
    "else:  \n",
    "    max = b \n",
    "while(True):\n",
    "    if(max%a == 0 and max%b == 0):   \n",
    "        print(\"The L.C.M of\", a,\"and\", b,\"is\", max)\n",
    "        break;\n",
    "    max= max+ 1"
   ]
  },
  {
   "cell_type": "code",
   "execution_count": 31,
   "id": "intermediate-delta",
   "metadata": {},
   "outputs": [
    {
     "name": "stdout",
     "output_type": "stream",
     "text": [
      "Enter your 1st number = 3\n",
      "Enter your 2nd number = 5\n",
      "The H.C.F. of 3 and 5 is 1\n"
     ]
    }
   ],
   "source": [
    "#Q2.\tWrite a Python Program to Find HCF?\n",
    "\n",
    "a = int(input(\"Enter your 1st number = \"))  \n",
    "b = int(input(\"Enter your 2nd number = \"))  \n",
    "if a > b:  \n",
    "    min = b  \n",
    "else:  \n",
    "    min = a  \n",
    "for x in range(1,min+1):  \n",
    "    if(a%x == 0 and b%x == 0):\n",
    "        HCF = x\n",
    "\n",
    "print(\"The H.C.F. of\", a,\"and\", b,\"is\", HCF)"
   ]
  },
  {
   "cell_type": "code",
   "execution_count": 18,
   "id": "novel-lender",
   "metadata": {},
   "outputs": [
    {
     "name": "stdout",
     "output_type": "stream",
     "text": [
      "Enter a decimal number = 29\n",
      "Binary of 29 is 0b11101\n",
      "Octal of 29 is 0o35\n",
      "Hexadecimal of 29 is 0x1d\n"
     ]
    }
   ],
   "source": [
    "#Q3.\tWrite a Python Program to Convert Decimal to Binary, Octal and Hexadecimal?\n",
    "\n",
    "X = int(input(\"Enter a decimal number = \"))  \n",
    "  \n",
    "print(f\"Binary of {X} is {bin(X)}\") \n",
    "print(f\"Octal of {X} is {oct(X)}\")\n",
    "print(f\"Hexadecimal of {X} is {hex(X)}\")"
   ]
  },
  {
   "cell_type": "code",
   "execution_count": 9,
   "id": "selected-transcription",
   "metadata": {},
   "outputs": [
    {
     "name": "stdout",
     "output_type": "stream",
     "text": [
      "Enter any character = y\n",
      "ASCII value of character y is 121\n"
     ]
    }
   ],
   "source": [
    "#Q4.\tWrite a Python Program To Find ASCII value of a character?\n",
    "\n",
    "C=input(\"Enter any character = \")\n",
    "\n",
    "print(f\"ASCII value of character {C} is {ord(C)}\")"
   ]
  },
  {
   "cell_type": "code",
   "execution_count": 12,
   "id": "promotional-divorce",
   "metadata": {},
   "outputs": [
    {
     "name": "stdout",
     "output_type": "stream",
     "text": [
      "Select any number from below operations:\n",
      "1.Addition\n",
      "2.Subtraction\n",
      "3.Multiplication\n",
      "4.Division\n",
      "Enter your choice(1/2/3/4): 4\n",
      "Enter your 1st number: 34\n",
      "Enter your 2nd number: 2\n",
      "34.0 / 2.0 = 17.0\n"
     ]
    }
   ],
   "source": [
    "#Q5.\tWrite a Python Program to Make a Simple Calculator with 4 basic mathematical operations?\n",
    "\n",
    "# Addition Function:\n",
    "def add(a, b):\n",
    "    return a + b\n",
    "\n",
    "# Subraction Function:\n",
    "def sub(a, b):\n",
    "    return a - b\n",
    "\n",
    "# Multiplication Function:\n",
    "def multi(a, b):\n",
    "    return a * b\n",
    "\n",
    "# Division Function:\n",
    "def div(a, b):\n",
    "    return a / b\n",
    "\n",
    "print(\"Select any number from below operations:\")\n",
    "print(\"1.Addition\")\n",
    "print(\"2.Subtraction\")\n",
    "print(\"3.Multiplication\")\n",
    "print(\"4.Division\")\n",
    "\n",
    "while True:\n",
    "    # Take input from the user\n",
    "    choice = input(\"Enter your choice(1/2/3/4): \")\n",
    "\n",
    "    # Check if choice is one of the four options\n",
    "    if choice in ('1', '2', '3', '4'):\n",
    "        n1 = float(input(\"Enter your 1st number: \"))\n",
    "        n2 = float(input(\"Enter your 2nd number: \"))\n",
    "\n",
    "        if choice == '1':\n",
    "            print(n1, \"+\", n2, \"=\", add(n1, n2))\n",
    "\n",
    "        elif choice == '2':\n",
    "            print(n1, \"-\", n2, \"=\", sub(n1, n2))\n",
    "\n",
    "        elif choice == '3':\n",
    "            print(n1, \"*\", n2, \"=\", multi(n1, n2))\n",
    "\n",
    "        elif choice == '4':\n",
    "            print(n1, \"/\", n2, \"=\", div(n1, n2))\n",
    "        break\n",
    "    else:\n",
    "        print(\"Invalid Input\")"
   ]
  },
  {
   "cell_type": "code",
   "execution_count": null,
   "id": "liquid-cheese",
   "metadata": {},
   "outputs": [],
   "source": []
  }
 ],
 "metadata": {
  "kernelspec": {
   "display_name": "Python 3",
   "language": "python",
   "name": "python3"
  },
  "language_info": {
   "codemirror_mode": {
    "name": "ipython",
    "version": 3
   },
   "file_extension": ".py",
   "mimetype": "text/x-python",
   "name": "python",
   "nbconvert_exporter": "python",
   "pygments_lexer": "ipython3",
   "version": "3.8.8"
  }
 },
 "nbformat": 4,
 "nbformat_minor": 5
}
