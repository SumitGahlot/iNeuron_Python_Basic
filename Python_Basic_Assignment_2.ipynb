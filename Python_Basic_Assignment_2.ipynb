{
 "cells": [
  {
   "cell_type": "markdown",
   "id": "disabled-duration",
   "metadata": {},
   "source": [
    "## Q1. What are the Boolean data type's two values? How do you go about writing them?"
   ]
  },
  {
   "cell_type": "code",
   "execution_count": 14,
   "id": "olympic-texture",
   "metadata": {},
   "outputs": [
    {
     "name": "stdout",
     "output_type": "stream",
     "text": [
      "Its True, a is smaller than b\n"
     ]
    }
   ],
   "source": [
    "# There are two boolean types available:\n",
    "True\n",
    "False\n",
    "# bool() function evaluates any given value and gives True or False in return based on \n",
    "# given condition. If the condition satisfies it will give \"True\" and \n",
    "# if the condition not satisfies then it will give \"False\"\n",
    "# Example:\n",
    "a = 8\n",
    "b = 10\n",
    "if a<b:\n",
    "    print(\"Its True, a is smaller than b\")\n",
    "else:\n",
    "    print(\"Its False, a is not smaller than b\")"
   ]
  },
  {
   "cell_type": "markdown",
   "id": "divided-gibraltar",
   "metadata": {},
   "source": [
    "## Q2. What are the three different types of Boolean operators?"
   ]
  },
  {
   "cell_type": "code",
   "execution_count": 12,
   "id": "vertical-louis",
   "metadata": {},
   "outputs": [
    {
     "name": "stdout",
     "output_type": "stream",
     "text": [
      "True\n",
      "True\n",
      "False\n"
     ]
    }
   ],
   "source": [
    "# Three types of boolean operators:\n",
    "# and\n",
    "# or\n",
    "# not\n",
    "# Examples:\n",
    "a = 2\n",
    "b = 4\n",
    "if (a==2 and b==4):\n",
    "    print(\"True\")\n",
    "if (a==2 or b==4):\n",
    "    print(\"True\")\n",
    "if (not(a==2), not(b==4)):\n",
    "    print(\"False\")"
   ]
  },
  {
   "cell_type": "markdown",
   "id": "athletic-mixture",
   "metadata": {},
   "source": [
    "## Q3. Make a list of each Boolean operator's truth tables (i.e. every possible combination of Boolean values for the operator and what it evaluate )."
   ]
  },
  {
   "cell_type": "code",
   "execution_count": null,
   "id": "linear-ghana",
   "metadata": {},
   "outputs": [],
   "source": [
    "# AND Boolean Operator: For AND operator, given values must satisfy both the expressions \n",
    "# otherwsie result will be always be False.\n",
    "True and True = True\n",
    "True and False = False\n",
    "False and True = False\n",
    "False and False = False\n",
    "\n",
    "# OR Boolean Operator: For OR operator, given values must satisfy either of the two expression\n",
    "# to get True else both expression should be False to get the False.\n",
    "True or True = True\n",
    "True or False = True\n",
    "False or True = True\n",
    "False or False = False\n",
    "\n",
    "# NOT Boolean Operator: For NOT operator, end result will always be vice-versa of the\n",
    "# given expression.\n",
    "not(True) = False\n",
    "not(False) = True"
   ]
  },
  {
   "cell_type": "markdown",
   "id": "separate-seating",
   "metadata": {},
   "source": [
    "## Q4. What are the values of the following expressions?\n",
    "\n",
    "(5 > 4) and (3 == 5)\n",
    "\n",
    "not (5 > 4)\n",
    "\n",
    "(5 > 4) or (3 == 5)\n",
    "\n",
    "not ((5 > 4) or (3 == 5))\n",
    "\n",
    "(True and True) and (True == False)\n",
    "\n",
    "(not False) or (not True)"
   ]
  },
  {
   "cell_type": "code",
   "execution_count": 58,
   "id": "accurate-saver",
   "metadata": {},
   "outputs": [],
   "source": [
    "# 5 > 4) and (3 == 5): False\n",
    "\n",
    "# not (5 > 4): False\n",
    "\n",
    "# (5 > 4) or (3 == 5): True\n",
    "\n",
    "# not ((5 > 4) or (3 == 5)): False\n",
    "\n",
    "# (True and True) and (True == False): False\n",
    "\n",
    "# (not False) or (not True): True"
   ]
  },
  {
   "cell_type": "markdown",
   "id": "unexpected-shadow",
   "metadata": {},
   "source": [
    "## Q5. What are the six different types of reference operators?"
   ]
  },
  {
   "cell_type": "code",
   "execution_count": null,
   "id": "buried-representative",
   "metadata": {},
   "outputs": [],
   "source": [
    "# Arithmetic operators(+,-,*,/,%,**,//)\n",
    "# Assignment operators(=,+=,-=,*=,/=,%=,//=,**=)\n",
    "# Comparison operators(==,!=,<,<=,>,>=)\n",
    "# Logical operators(and, or, not)\n",
    "# Identity operators(is, is not)\n",
    "# Membership operators(in, not in)\n",
    "# Bitwise operators(&,|,^,~,<<,>>)"
   ]
  },
  {
   "cell_type": "markdown",
   "id": "detailed-elements",
   "metadata": {},
   "source": [
    "## Q6. How do you tell the difference between the equal to and assignment operators?"
   ]
  },
  {
   "cell_type": "code",
   "execution_count": 19,
   "id": "logical-graphics",
   "metadata": {},
   "outputs": [],
   "source": [
    "# Equal to \"=\" is also an assignment Operator used to assign the value to variable like\n",
    "a = 10\n",
    "# But there are other assignment operators also which results in different values when combine\n",
    "# with other operators examples mentioned below:\n",
    "# Equals to =\n",
    "# a = 10, value is 10.\n",
    "## Addition +=\n",
    "# a+= 5, value is a=a+5=10+5=15\n",
    "## Subtraction -=\n",
    "# a-= 5, value is a=a-5=10-5=5\n",
    "## Multiplication *=\n",
    "# a*= 5, value is a=a*5=10*5=50\n",
    "## Division /=\n",
    "# a/=5, value is a=a/5=10/5=2\n",
    "## Modulus %=\n",
    "# a%=5, value is a=a%5=10%5=0\n",
    "## Floor division //=\n",
    "# a//=5, value is a=a//5=10//5=2\n",
    "## Exponentiation **=\n",
    "# a**=2, value is a=a**2=10**2=100"
   ]
  },
  {
   "cell_type": "markdown",
   "id": "competitive-thanks",
   "metadata": {},
   "source": [
    "## Q7. Describe a condition and when you would use one."
   ]
  },
  {
   "cell_type": "code",
   "execution_count": 86,
   "id": "enclosed-waters",
   "metadata": {},
   "outputs": [
    {
     "name": "stdout",
     "output_type": "stream",
     "text": [
      "Enter number for x = 57\n",
      "Enter number for y = 67\n",
      "y is greater than x\n"
     ]
    }
   ],
   "source": [
    "# 'Condition' which evaluates actions in the program and determines whether it's true or false.\n",
    "# If--else statement allows conditional execution based on the evaluation of an expression.\n",
    "\n",
    "# Equals or comparison: a == b\n",
    "# Not Equals: a != b\n",
    "# Less than: a < b\n",
    "# Less than or equal to: a <= b\n",
    "# Greater than: a > b\n",
    "# Greater than or equal to: a >= b\n",
    "# These conditions can be used in several ways, most commonly in \"if..else statements\" and loops.\n",
    "\n",
    "# Example:\n",
    "x = int(input(\"Enter number for x = \"))\n",
    "y = int(input(\"Enter number for y = \"))\n",
    "if y > x:\n",
    "  print(\"y is greater than x\")\n",
    "elif x == y:\n",
    "  print(\"x and y are equal\")\n",
    "else:\n",
    "    print(\"x is greater than y\")\n",
    "\n",
    "# In this example we use two variables, x and y and ask for users input.\n",
    "# whenever user input value of y > x, it will print \"y is greater than x\"\n",
    "# similarly, when user input same values for both x and y, it will print \"x and y are equal\"\n",
    "# and when user input any value other than above two conditions,\n",
    "# it will always print \"x is greater than y\""
   ]
  },
  {
   "cell_type": "markdown",
   "id": "rubber-mouth",
   "metadata": {},
   "source": [
    "## Q8. Recognize the following three blocks in this code:\n",
    "\n",
    "spam = 0\n",
    "\n",
    "if spam == 10:\n",
    "\n",
    "    print('eggs')\n",
    "    \n",
    "    if spam > 5:\n",
    "        \n",
    "        print('bacon')\n",
    "    \n",
    "    else:\n",
    "        \n",
    "        print('ham')\n",
    "    \n",
    "    print('spam')\n",
    "\n",
    "print('spam')"
   ]
  },
  {
   "cell_type": "code",
   "execution_count": null,
   "id": "seasonal-phrase",
   "metadata": {},
   "outputs": [],
   "source": [
    "# First block contains two print statements \"eggs\" and \"spam\"\n",
    "\n",
    "# Second Block contains only one print statement \"bacon\"\n",
    "\n",
    "# Third Block contains only one print statement \"ham\""
   ]
  },
  {
   "cell_type": "markdown",
   "id": "recreational-freeware",
   "metadata": {},
   "source": [
    "## Q9. Create a programme that prints. If 1 is stored in spam, prints Hello; if 2 is stored in spam, prints Howdy; and if 3 is stored in spam, prints Salutations! if there's something else in spam."
   ]
  },
  {
   "cell_type": "code",
   "execution_count": 87,
   "id": "extended-funeral",
   "metadata": {},
   "outputs": [
    {
     "name": "stdout",
     "output_type": "stream",
     "text": [
      "Enter Number 3\n",
      "WOW!\n"
     ]
    }
   ],
   "source": [
    "a = spam = int(input(\"Enter Number \"))\n",
    "if a==1:\n",
    "    print(\"Hello\")\n",
    "elif a==2:\n",
    "    print(\"Howdy\")\n",
    "elif a==3:\n",
    "    print(\"WOW!\")\n",
    "else:\n",
    "    print(\"Number out of range\")"
   ]
  },
  {
   "cell_type": "markdown",
   "id": "equal-europe",
   "metadata": {},
   "source": [
    "## Q10.If your programme is stuck in an endless loop, what keys can you press?"
   ]
  },
  {
   "cell_type": "code",
   "execution_count": null,
   "id": "connected-homework",
   "metadata": {},
   "outputs": [],
   "source": [
    "# On Terminal press Ctrl+C or Ctrl+Z to end or interupt the loop.\n",
    "# On Jupyter Notebook press ⌘command+⏎enter to end or interupt the loop."
   ]
  },
  {
   "cell_type": "markdown",
   "id": "legal-willow",
   "metadata": {},
   "source": [
    "## Q11. How can you tell the difference between break and continue?"
   ]
  },
  {
   "cell_type": "code",
   "execution_count": 21,
   "id": "angry-fetish",
   "metadata": {},
   "outputs": [
    {
     "name": "stdout",
     "output_type": "stream",
     "text": [
      "1\t2\t3\t4\t\n",
      "\n",
      "1\t2\t3\t5\t6\t7\t8\t9\t"
     ]
    }
   ],
   "source": [
    "# With the break statement we can stop the loop even if the while condition is true:\n",
    "# Example: Exit the loop when a is 4\n",
    "a = 1\n",
    "while a < 5:\n",
    "  print(a, end='\\t')\n",
    "  if a == 4:\n",
    "    break\n",
    "  a+= 1\n",
    "print('\\n')\n",
    "\n",
    "# With the continue statement we can stop the current iteration, and continue with the next:\n",
    "# Example: Continue to the next iteration if x is 4\n",
    "x = 0\n",
    "while x < 9:\n",
    "  x+= 1\n",
    "  if x == 4:\n",
    "    continue\n",
    "  print(x, end='\\t')"
   ]
  },
  {
   "cell_type": "markdown",
   "id": "cardiovascular-equivalent",
   "metadata": {},
   "source": [
    "## Q12. In a for loop, what is the difference between range(10), range(0, 10), and range(0, 10, 1)?"
   ]
  },
  {
   "cell_type": "code",
   "execution_count": 20,
   "id": "boxed-booth",
   "metadata": {},
   "outputs": [
    {
     "name": "stdout",
     "output_type": "stream",
     "text": [
      "0\t1\t2\t3\t4\t5\t6\t7\t8\t9\t\n",
      "\n",
      "0\t1\t2\t3\t4\t5\t6\t7\t8\t9\t\n",
      "\n",
      "0\t1\t2\t3\t4\t5\t6\t7\t8\t9\t"
     ]
    }
   ],
   "source": [
    "# Range(start, stop, stepover): Ideally there is no difference in all three\n",
    "for a in range(10): # In this we have Start value \"0\" and stepover value \"1\" by default\n",
    "    print(a, end='\\t')\n",
    "print('\\n')   \n",
    "for b in range(0, 10): # In this we have Stepover value \"1\" by default\n",
    "    print(b, end='\\t')\n",
    "print('\\n') \n",
    "for c in range(0, 10, 1): # In this Start is \"0\", Stop is \"10\", Stepover is \"1\"\n",
    "    print(c, end='\\t')"
   ]
  },
  {
   "cell_type": "markdown",
   "id": "handmade-dating",
   "metadata": {},
   "source": [
    "## Q13. Using a for loop, write a short programme that prints the numbers 1 to 10 Then, using a while loop, create an identical programme that prints the numbers 1 to 10."
   ]
  },
  {
   "cell_type": "code",
   "execution_count": 17,
   "id": "adapted-commons",
   "metadata": {},
   "outputs": [
    {
     "name": "stdout",
     "output_type": "stream",
     "text": [
      "1\t2\t3\t4\t5\t6\t7\t8\t9\t10\t\n",
      "\n",
      "1\t2\t3\t4\t5\t6\t7\t8\t9\t10\t"
     ]
    }
   ],
   "source": [
    "# For Loop example:\n",
    "for x in range(1, 11):\n",
    "    print(x, end='\\t')\n",
    "\n",
    "print('\\n')\n",
    "\n",
    "# While Loop example:\n",
    "y = 1\n",
    "while(y<=10):\n",
    "    print(y, end='\\t')\n",
    "    y+= 1"
   ]
  },
  {
   "cell_type": "markdown",
   "id": "suburban-parts",
   "metadata": {},
   "source": [
    "## Q14. If you had a bacon() function within a spam module, what would you call it after importing spam?"
   ]
  },
  {
   "cell_type": "code",
   "execution_count": 26,
   "id": "instrumental-laundry",
   "metadata": {},
   "outputs": [],
   "source": [
    "# Importing module spam and giving alias as sp as below:\n",
    "import spam as sp\n",
    "# Calling bacon() function from spam module\n",
    "sp.bacon()"
   ]
  },
  {
   "cell_type": "code",
   "execution_count": null,
   "id": "sticky-hungary",
   "metadata": {},
   "outputs": [],
   "source": []
  },
  {
   "cell_type": "code",
   "execution_count": null,
   "id": "spoken-tyler",
   "metadata": {},
   "outputs": [],
   "source": []
  },
  {
   "cell_type": "code",
   "execution_count": null,
   "id": "sunset-sauce",
   "metadata": {},
   "outputs": [],
   "source": []
  },
  {
   "cell_type": "code",
   "execution_count": null,
   "id": "through-branch",
   "metadata": {},
   "outputs": [],
   "source": []
  },
  {
   "cell_type": "code",
   "execution_count": null,
   "id": "usual-printer",
   "metadata": {},
   "outputs": [],
   "source": []
  }
 ],
 "metadata": {
  "kernelspec": {
   "display_name": "Python 3",
   "language": "python",
   "name": "python3"
  },
  "language_info": {
   "codemirror_mode": {
    "name": "ipython",
    "version": 3
   },
   "file_extension": ".py",
   "mimetype": "text/x-python",
   "name": "python",
   "nbconvert_exporter": "python",
   "pygments_lexer": "ipython3",
   "version": "3.9.2"
  }
 },
 "nbformat": 4,
 "nbformat_minor": 5
}
