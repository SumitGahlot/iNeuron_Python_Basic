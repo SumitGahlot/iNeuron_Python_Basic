{
 "cells": [
  {
   "attachments": {},
   "cell_type": "markdown",
   "id": "worse-private",
   "metadata": {},
   "source": [
    "## Q1. What are the differences between operators and values in the following?\n",
    "\n",
    "*\n",
    "\n",
    "'hello'\n",
    "\n",
    "-87.8\n",
    "\n",
    "-\n",
    "\n",
    "/\n",
    "\n",
    "+\n",
    "\n",
    "6"
   ]
  },
  {
   "cell_type": "code",
   "execution_count": 11,
   "id": "charming-placement",
   "metadata": {},
   "outputs": [
    {
     "name": "stdout",
     "output_type": "stream",
     "text": [
      "10\n",
      "hello\n",
      "<class 'float'>\n",
      "3\n",
      "2.5\n",
      "7\n",
      "<class 'int'>\n"
     ]
    }
   ],
   "source": [
    "# * : It is used for Multiplication in a program\n",
    "print(5*2)\n",
    "\n",
    "# 'hello' : String is a sequence of characters with single or double quotes.\n",
    "print('hello')\n",
    "\n",
    "# -87.8 : Float is a number, positive or negative, containing one or more decimals.\n",
    "print(type(-87.8))\n",
    "\n",
    "# - : it is used for subtraction in a program\n",
    "print(5-2)\n",
    "\n",
    "# / : it is used for division in a program\n",
    "print(5/2)\n",
    "\n",
    "# + : it is used for addition in a program\n",
    "print(5+2)\n",
    "\n",
    "# 6 : this is an integer value\n",
    "print(type(6))"
   ]
  },
  {
   "cell_type": "markdown",
   "id": "occasional-booking",
   "metadata": {},
   "source": [
    "## Q2. What is the difference between string and variable?\n",
    "\n",
    "spam\n",
    "\n",
    "'spam'"
   ]
  },
  {
   "cell_type": "code",
   "execution_count": 12,
   "id": "surgical-satisfaction",
   "metadata": {},
   "outputs": [
    {
     "name": "stdout",
     "output_type": "stream",
     "text": [
      "<class 'int'>\n"
     ]
    },
    {
     "data": {
      "text/plain": [
       "str"
      ]
     },
     "execution_count": 12,
     "metadata": {},
     "output_type": "execute_result"
    }
   ],
   "source": [
    "# Spam : Variables are the placeholders used to hold different values for different operations\n",
    "spam = 25\n",
    "print(type(spam))\n",
    "\n",
    "# 'spam' : its a sequence of characters. It is a derived data type. Strings are immutable. This means that once defined, they cannot be changed.\n",
    "type('spam')"
   ]
  },
  {
   "cell_type": "markdown",
   "id": "varied-equivalent",
   "metadata": {},
   "source": [
    "## Q3. Describe three different data forms."
   ]
  },
  {
   "cell_type": "code",
   "execution_count": 76,
   "id": "affected-deployment",
   "metadata": {},
   "outputs": [
    {
     "name": "stdout",
     "output_type": "stream",
     "text": [
      "<class 'list'>\n",
      "<class 'tuple'>\n",
      "<class 'float'>\n"
     ]
    }
   ],
   "source": [
    "# Text Type: str(\"Hello\")\n",
    "# Numeric Types: int(4), float(3.5), complex(45+5j)\n",
    "# Sequence Types: list[1,2,\"abcd\",4], tuple(5,\"efgh\", 4.5)\n",
    "\n",
    "# list: List is created with square brackets[], used to store multiple items in a \n",
    "# single variable and can be changed or mutable.\n",
    "ls = [1,2,\"abcd\",4]\n",
    "print(type(ls))\n",
    "\n",
    "# tuple: tuple is created with round brackets(), used to store multiple items in a \n",
    "# single variable and cannot be changed or immutable.\n",
    "a = (5,\"efgh\", 4.5)\n",
    "print(type(a))\n",
    "\n",
    "# float: Float is a number, positive or negative, containing one or more decimals.\n",
    "b = 3.5\n",
    "print(type(b))"
   ]
  },
  {
   "cell_type": "markdown",
   "id": "naval-endorsement",
   "metadata": {},
   "source": [
    "## Q4. What makes up an expression? What are the functions of all expressions?"
   ]
  },
  {
   "cell_type": "code",
   "execution_count": 59,
   "id": "congressional-proposal",
   "metadata": {},
   "outputs": [
    {
     "name": "stdout",
     "output_type": "stream",
     "text": [
      "-1\n"
     ]
    }
   ],
   "source": [
    "# A sequence of variables and operaters (a+b)-7 is called an expression\n",
    "# Functions of all expressions is to perform operations on the given variables\n",
    "a = 2\n",
    "b = 4\n",
    "print(a+b-7)"
   ]
  },
  {
   "cell_type": "markdown",
   "id": "involved-grill",
   "metadata": {},
   "source": [
    "## Q5. In this chapter, assignment statements such as spam = 10 were added. What's the difference between a declaration and an expression?"
   ]
  },
  {
   "cell_type": "code",
   "execution_count": 61,
   "id": "peaceful-female",
   "metadata": {},
   "outputs": [
    {
     "name": "stdout",
     "output_type": "stream",
     "text": [
      "20\n"
     ]
    }
   ],
   "source": [
    "# Method of creating a variable and assigining value to it is called Declaration\n",
    "spam = 10\n",
    "\n",
    "# Expression is a sequence in which we perform operations on the given variables \n",
    "# using different operators\n",
    "print(spam*2)"
   ]
  },
  {
   "cell_type": "markdown",
   "id": "reduced-samoa",
   "metadata": {},
   "source": [
    "## Q6. After running the following code, what does the variable bacon contain?\n",
    "\n",
    "bacon = 22\n",
    "\n",
    "bacon + 1"
   ]
  },
  {
   "cell_type": "code",
   "execution_count": 58,
   "id": "faced-drinking",
   "metadata": {},
   "outputs": [
    {
     "name": "stdout",
     "output_type": "stream",
     "text": [
      "23\n"
     ]
    }
   ],
   "source": [
    "# Output will be 23 in jupyter notebook\n",
    "bacon = 22\n",
    "print(bacon+1)"
   ]
  },
  {
   "cell_type": "markdown",
   "id": "bearing-access",
   "metadata": {},
   "source": [
    "## Q7. What should the values of the following two terms be?\n",
    "\n",
    "'spam' + 'spamspam'\n",
    "\n",
    "'spam' * 3"
   ]
  },
  {
   "cell_type": "code",
   "execution_count": 32,
   "id": "hungry-saturn",
   "metadata": {},
   "outputs": [
    {
     "name": "stdout",
     "output_type": "stream",
     "text": [
      "spamspamspam\n",
      "spamspamspam\n"
     ]
    }
   ],
   "source": [
    "# 'spam' + 'spamspam' : This statement concatenate two strings\n",
    "a = 'spam' + 'spamspam'\n",
    "print(a)\n",
    "# 'spam' * 3 : This statement multiply string 3 times\n",
    "b = 'spam' * 3\n",
    "print(b)\n",
    "# Both outputs will be same, can operate either way"
   ]
  },
  {
   "cell_type": "markdown",
   "id": "spectacular-harris",
   "metadata": {},
   "source": [
    "## Q8. Why is it that eggs is a true variable name but 100 is not?"
   ]
  },
  {
   "cell_type": "code",
   "execution_count": 42,
   "id": "copyrighted-reliance",
   "metadata": {},
   "outputs": [
    {
     "name": "stdout",
     "output_type": "stream",
     "text": [
      "Sumit\n",
      "Sumit\n",
      "Sumit\n"
     ]
    }
   ],
   "source": [
    "# A variable name must start with a letter or the underscore character\n",
    "qwerty = 'Sumit'\n",
    "print(qwerty)\n",
    "# A variable name can only contain alpha-numeric characters and underscores (A-z, 0-9, and _ )\n",
    "qwe12 = \"Sumit\"\n",
    "print(qwe12)\n",
    "# Variable names are case-sensitive (age, Age and AGE are three different variables)\n",
    "QWERTY = \"Sumit\"\n",
    "print(QWERTY)"
   ]
  },
  {
   "cell_type": "code",
   "execution_count": 44,
   "id": "environmental-month",
   "metadata": {},
   "outputs": [
    {
     "ename": "SyntaxError",
     "evalue": "invalid syntax (<ipython-input-44-1000791c704f>, line 2)",
     "output_type": "error",
     "traceback": [
      "\u001b[0;36m  File \u001b[0;32m\"<ipython-input-44-1000791c704f>\"\u001b[0;36m, line \u001b[0;32m2\u001b[0m\n\u001b[0;31m    7qwer = \"Sumit\"\u001b[0m\n\u001b[0m     ^\u001b[0m\n\u001b[0;31mSyntaxError\u001b[0m\u001b[0;31m:\u001b[0m invalid syntax\n"
     ]
    }
   ],
   "source": [
    "# A variable name cannot start with a number\n",
    "7qwer = \"Sumit\"\n",
    "print(7qwer)\n",
    "# This is why eggs is a true variable name and 100 is not"
   ]
  },
  {
   "cell_type": "markdown",
   "id": "common-hepatitis",
   "metadata": {},
   "source": [
    "## Q9. Which of the following three functions may be used to convert a value to an integer, a floating-point number, or a string?"
   ]
  },
  {
   "cell_type": "code",
   "execution_count": 57,
   "id": "directed-england",
   "metadata": {},
   "outputs": [
    {
     "name": "stdout",
     "output_type": "stream",
     "text": [
      "(20.0, 20, '20')\n"
     ]
    }
   ],
   "source": [
    "# By Typecasting method we can convert any value to an integer, float or string\n",
    "a = 20\n",
    "b = float(a), int(a), str(a)\n",
    "print(b)"
   ]
  },
  {
   "cell_type": "markdown",
   "id": "modified-necessity",
   "metadata": {},
   "source": [
    "## Q10. What is the error caused by this expression? What would you do about it?\n",
    "\n",
    "'I have eaten ' + 99 + ' burritos.'"
   ]
  },
  {
   "cell_type": "code",
   "execution_count": 33,
   "id": "affecting-miller",
   "metadata": {},
   "outputs": [
    {
     "name": "stdout",
     "output_type": "stream",
     "text": [
      "I have eaten 99 burritos.\n",
      "I have eaten 99 burritos.\n"
     ]
    }
   ],
   "source": [
    "# 'I have eaten ' + 99 + ' burritos.'\n",
    "# Error: can only concatenate str (not \"int\") to str\n",
    "# In this statement, 99 is an integer so to remove this error, we need to convert the \n",
    "# integer(99) into string as str(99) or '99'\n",
    "\n",
    "print('I have eaten ' + '99' + ' burritos.')\n",
    "print('I have eaten ' + str(99) + ' burritos.')"
   ]
  },
  {
   "cell_type": "code",
   "execution_count": null,
   "id": "systematic-notification",
   "metadata": {},
   "outputs": [],
   "source": []
  }
 ],
 "metadata": {
  "kernelspec": {
   "display_name": "Python 3",
   "language": "python",
   "name": "python3"
  },
  "language_info": {
   "codemirror_mode": {
    "name": "ipython",
    "version": 3
   },
   "file_extension": ".py",
   "mimetype": "text/x-python",
   "name": "python",
   "nbconvert_exporter": "python",
   "pygments_lexer": "ipython3",
   "version": "3.9.2"
  }
 },
 "nbformat": 4,
 "nbformat_minor": 5
}
